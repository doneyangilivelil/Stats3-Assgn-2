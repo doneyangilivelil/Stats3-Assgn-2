{
 "cells": [
  {
   "cell_type": "markdown",
   "metadata": {},
   "source": [
    "In one state, 52% of the voters are Republicans, and 48% are Democrats. In a second state, 47% of the voters are Republicans, and 53% are Democrats. Suppose a simple random sample of 100 voters are surveyed from each state.\n",
    "What is the probability that the survey will show a greater percentage of Republican voters in the second state than in the first state?"
   ]
  },
  {
   "cell_type": "raw",
   "metadata": {},
   "source": [
    "Proporation:\n",
    "\n",
    "Given:\n",
    "Proportion of Rep voters in 1st state P1=.52\n",
    "Proportion of Rep voters in 2nd state P2=.47\n",
    "Sample size of 1st state n1=100\n",
    "Sample size of 2nd state n2=100\n",
    "\n",
    "\n",
    "Make sure the sample size is big enough to model differences with a normal population. Because \n",
    "n1P1 = 100 * 0.52= 52\n",
    "n1(1 - P1) = 100 * 0.48= 48\n",
    "n2P2 = 100 * 0.47 = 47\n",
    "n2(1 - P2) = 100 * 0.53 =53 \n",
    "\n",
    "mean of porportion difference E(p1 - p2)=0.52 - 0.47 = 0.05.\n",
    "\n",
    "Find the standard deviation of the difference.\n",
    "sigma = sqrt( [ P1(1 - P1) / n1 ] + [ P2(1 - P2) / n2 ] ) \n",
    "sigma = sqrt( [ (0.52)(0.48) / 100 ] + [ (0.47)(0.53) / 100 ] ) \n",
    "sigma = sqrt (0.002496 + 0.002491) = sqrt(0.004987) = 0.0706\n",
    "we need to find P1<P2 => P1-P2<0\n",
    "z (p1 - p2) = (x - μ (p1 - p2) ) / sigma = = -0.708\n",
    "Probability of z-score being -0.708 or less is 0.24 (pnorm in R)."
   ]
  }
 ],
 "metadata": {
  "kernelspec": {
   "display_name": "Python 3",
   "language": "python",
   "name": "python3"
  },
  "language_info": {
   "codemirror_mode": {
    "name": "ipython",
    "version": 3
   },
   "file_extension": ".py",
   "mimetype": "text/x-python",
   "name": "python",
   "nbconvert_exporter": "python",
   "pygments_lexer": "ipython3",
   "version": "3.6.4"
  }
 },
 "nbformat": 4,
 "nbformat_minor": 2
}
